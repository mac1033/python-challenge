{
 "cells": [
  {
   "cell_type": "code",
   "execution_count": 1,
   "id": "9fae63af",
   "metadata": {},
   "outputs": [],
   "source": [
    "# Import dependencies\n",
    "import os\n",
    "import csv\n",
    "\n",
    "input_file = \"/Users/meganconnelly/desktop/Resources/election_data.csv\""
   ]
  },
  {
   "cell_type": "code",
   "execution_count": 5,
   "id": "28153c90",
   "metadata": {},
   "outputs": [],
   "source": [
    "# Open and read CSV file\n",
    "with open(input_file, newline='') as csvfile:\n",
    "    csvreader = csv.reader(csvfile, delimiter=',')\n",
    "    csv_header = next(csvreader)\n",
    "    \n",
    "    # declare variables\n",
    "    votes = []\n",
    "    county = []\n",
    "    candidates = []\n",
    "    charles_stockham = []\n",
    "    diana_degette = []\n",
    "    raymon_doane = []\n",
    "    stockham_votes = 0\n",
    "    degette_votes = 0\n",
    "    doane_votes = 0\n",
    "\n",
    "    # Read each row of data after the header\n",
    "    for row in csvreader:\n",
    "        votes.append(int(row[0]))\n",
    "        county.append(row[1])\n",
    "        candidates.append(row[2])\n",
    "\n",
    "    # calculate the total number of votes\n",
    "    total_votes = len(votes)\n",
    "\n",
    "    # count votes for each candidate\n",
    "    for candidate in candidates:\n",
    "        if candidate == \"Charles Casper Stockham\":\n",
    "            charles_stockham.append(candidate)\n",
    "            stockham_votes = len(charles_stockham)\n",
    "        elif candidate == \"Diana DeGette\":\n",
    "            diana_degette.append(candidate)\n",
    "            degette_votes = len(diana_degette)\n",
    "        else:\n",
    "            raymon_doane.append(candidate)\n",
    "            doane_votes = len(raymon_doane)\n",
    "\n",
    "    # calculate the percentage of votes for each candidate\n",
    "    stockham_percent = round((stockham_votes / total_votes) * 100, 3)\n",
    "    degette_percent = round((degette_votes / total_votes) * 100, 3)\n",
    "    doane_percent = round((doane_votes / total_votes) * 100, 3)\n",
    "\n",
    "    # determine the winner\n",
    "    if stockham_percent > max(degette_percent, doane_percent):\n",
    "        winner = \"Charles Casper Stockham\"\n",
    "    elif degette_percent > max(stockham_percent, doane_percent):\n",
    "        winner = \"Diana DeGette\"\n",
    "    else:\n",
    "        winner = \"Raymon Anthony Doane\"\n"
   ]
  },
  {
   "cell_type": "code",
   "execution_count": 7,
   "id": "e1adb4b6",
   "metadata": {},
   "outputs": [
    {
     "name": "stdout",
     "output_type": "stream",
     "text": [
      "Election Results\n",
      "-------------------------\n",
      "Total Votes: 369711\n",
      "-------------------------\n",
      "Stockham: 23.049% (85213)\n",
      "DeGette: 73.812% (272892)\n",
      "Doane: 3.139% (11606)\n",
      "-------------------------\n",
      "Winner: Diana DeGette\n",
      "-------------------------\n"
     ]
    }
   ],
   "source": [
    "# Print the election results\n",
    "print(f'''Election Results\n",
    "-------------------------\n",
    "Total Votes: {total_votes}\n",
    "-------------------------\n",
    "Stockham: {stockham_percent}% ({stockham_votes})\n",
    "DeGette: {degette_percent}% ({degette_votes})\n",
    "Doane: {doane_percent}% ({doane_votes})\n",
    "-------------------------\n",
    "Winner: {winner}\n",
    "-------------------------''')"
   ]
  },
  {
   "cell_type": "code",
   "execution_count": null,
   "id": "a92a842b",
   "metadata": {},
   "outputs": [],
   "source": [
    "# Save to a text file\n",
    "file_path = \"/Users/meganconnelly/desktop/analysis.txt\"\n",
    "    with open(file_path, \"w\") as file:\n",
    "        file.write(f'''Election Results\n",
    "-------------------------\n",
    "Total Votes: {total_votes}\n",
    "-------------------------\n",
    "Stockham: {stockham_percent}% ({stockham_votes})\n",
    "DeGette: {degette_percent}% ({degette_votes})\n",
    "Doane: {doane_percent}% ({doane_votes})\n",
    "-------------------------\n",
    "Winner: {winner}\n",
    "-------------------------''')"
   ]
  }
 ],
 "metadata": {
  "kernelspec": {
   "display_name": "Python 3 (ipykernel)",
   "language": "python",
   "name": "python3"
  },
  "language_info": {
   "codemirror_mode": {
    "name": "ipython",
    "version": 3
   },
   "file_extension": ".py",
   "mimetype": "text/x-python",
   "name": "python",
   "nbconvert_exporter": "python",
   "pygments_lexer": "ipython3",
   "version": "3.7.15"
  }
 },
 "nbformat": 4,
 "nbformat_minor": 5
}
