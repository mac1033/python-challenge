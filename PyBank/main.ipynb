{
 "cells": [
  {
   "cell_type": "code",
   "execution_count": 1,
   "id": "b064d40a",
   "metadata": {},
   "outputs": [],
   "source": [
    "# Import libraries\n",
    "import os\n",
    "import csv\n",
    "\n",
    "input_file = \"/Users/meganconnelly/desktop/Resources/budget_data.csv\"\n",
    "output_file = \"./analysis.text\""
   ]
  },
  {
   "cell_type": "code",
   "execution_count": 2,
   "id": "8c79d991",
   "metadata": {},
   "outputs": [],
   "source": [
    "# Set Variables\n",
    "months = []\n",
    "profit_loss_changes = []\n",
    "count_months = 0\n",
    "net_profit_loss = 0\n",
    "previous_month_profit_loss = 0\n",
    "current_month_profit_loss = 0\n",
    "profit_loss_change = 0"
   ]
  },
  {
   "cell_type": "code",
   "execution_count": 3,
   "id": "53a1d670",
   "metadata": {},
   "outputs": [],
   "source": [
    "# Read CSV\n",
    "with open (input_file) as analysis_data:\n",
    "    reader = csv.DictReader(analysis_data)\n",
    "    reader = csv.reader(analysis_data, delimiter=\",\")\n",
    "    csv_header = next(analysis_data)\n",
    "    \n",
    "    # Loop through the rows of data\n",
    "    for row in reader:\n",
    "        count_months += 1\n",
    "         # Net total amount of \"Profit/Losses\" over the entire period\n",
    "        current_month_profit_loss = int(row[1])\n",
    "        net_profit_loss += current_month_profit_loss\n",
    "\n",
    "        if (count_months == 1):\n",
    "            # Make the value of previous month to be equal to current month\n",
    "            previous_month_profit_loss = current_month_profit_loss\n",
    "            continue\n",
    "\n",
    "        else:\n",
    "\n",
    "            # Compute change in profit loss \n",
    "            profit_loss_change = current_month_profit_loss - previous_month_profit_loss\n",
    "\n",
    "            # Append each month to the months[]\n",
    "            months.append(row[0])\n",
    "\n",
    "            # Append each profit_loss_change to the profit_loss_changes[]\n",
    "            profit_loss_changes.append(profit_loss_change)\n",
    "\n",
    "            # Make the current_month_loss to be previous_month_profit_loss for the next loop\n",
    "            previous_month_profit_loss = current_month_profit_loss\n",
    "\n",
    "    #sum and average of the changes in \"Profit/Losses\" over the entire period\n",
    "    sum_profit_loss = sum(profit_loss_changes)\n",
    "    average_profit_loss = round(sum_profit_loss/(count_months - 1), 2)\n",
    "\n",
    "    # highest and lowest changes in \"Profit/Losses\" over the entire period\n",
    "    highest_change = max(profit_loss_changes)\n",
    "    lowest_change = min(profit_loss_changes)\n",
    "\n",
    "    # Locate the index value of highest and lowest changes in \"Profit/Losses\" over the entire period\n",
    "    highest_month_index = profit_loss_changes.index(highest_change)\n",
    "    lowest_month_index = profit_loss_changes.index(lowest_change)\n",
    "\n",
    "    # Assign best and worst month\n",
    "    best_month = months[highest_month_index]\n",
    "    worst_month = months[lowest_month_index]"
   ]
  },
  {
   "cell_type": "code",
   "execution_count": 4,
   "id": "1da08e28",
   "metadata": {},
   "outputs": [
    {
     "name": "stdout",
     "output_type": "stream",
     "text": [
      "Financial Analysis\n",
      "----------------------------\n",
      "Total Months:  86\n",
      "Total:  $22564198\n",
      "Average Change:  $-8311.11\n",
      "Greatest Increase in Profits:  Aug-16 ($1862002)\n",
      "Greatest Decrease in Losses:  Feb-14 ($-1825558)\n"
     ]
    }
   ],
   "source": [
    "# Print Analysis\n",
    "print(\"Financial Analysis\")\n",
    "print(\"----------------------------\")\n",
    "print(f\"Total Months:  {count_months}\")\n",
    "print(f\"Total:  ${net_profit_loss}\")\n",
    "print(f\"Average Change:  ${average_profit_loss}\")\n",
    "print(f\"Greatest Increase in Profits:  {best_month} (${highest_change})\")\n",
    "print(f\"Greatest Decrease in Losses:  {worst_month} (${lowest_change})\")"
   ]
  },
  {
   "cell_type": "code",
   "execution_count": 12,
   "id": "671f33cc",
   "metadata": {},
   "outputs": [],
   "source": [
    "# Save to Text file\n",
    "file_path = \"/Users/meganconnelly/desktop/analysis.txt\"\n",
    "with open(file_path, 'w') as file:\n",
    "    file.write(\"Financial Analysis\\n\")\n",
    "    file.write(\"----------------------------\\n\")\n",
    "    file.write(f\"Total Months:  {count_months}\\n\")\n",
    "    file.write(f\"Total:  ${net_profit_loss}\\n\")\n",
    "    file.write(f\"Average Change:  ${average_profit_loss}\\n\")\n",
    "    file.write(f\"Greatest Increase in Profits:  {best_month} (${highest_change})\\n\")\n",
    "    file.write(f\"Greatest Decrease in Losses:  {worst_month} (${lowest_change})\\n\")"
   ]
  },
  {
   "cell_type": "code",
   "execution_count": null,
   "id": "65ef6bda",
   "metadata": {},
   "outputs": [],
   "source": []
  }
 ],
 "metadata": {
  "kernelspec": {
   "display_name": "Python 3 (ipykernel)",
   "language": "python",
   "name": "python3"
  },
  "language_info": {
   "codemirror_mode": {
    "name": "ipython",
    "version": 3
   },
   "file_extension": ".py",
   "mimetype": "text/x-python",
   "name": "python",
   "nbconvert_exporter": "python",
   "pygments_lexer": "ipython3",
   "version": "3.7.15"
  }
 },
 "nbformat": 4,
 "nbformat_minor": 5
}
